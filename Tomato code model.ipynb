{
 "cells": [
  {
   "cell_type": "code",
   "execution_count": 1,
   "id": "0e5d94fc-ad36-4c18-a48d-c8d16335eae4",
   "metadata": {},
   "outputs": [],
   "source": [
    "import os\n",
    "import warnings\n",
    "import numpy as np\n",
    "import pandas as pd\n",
    "from tensorflow.keras.preprocessing.image import ImageDataGenerator\n",
    "from tensorflow.keras import layers, models\n",
    "from tensorflow.keras.preprocessing import image"
   ]
  },
  {
   "cell_type": "code",
   "execution_count": 3,
   "id": "05c3c10d-be4d-43c3-a39a-42f1d1a43978",
   "metadata": {},
   "outputs": [],
   "source": [
    "# Suppress warnings\n",
    "warnings.filterwarnings(\"ignore\")"
   ]
  },
  {
   "cell_type": "code",
   "execution_count": 15,
   "id": "e8fdd84b-c34a-4cfb-8b49-9e04cae945f1",
   "metadata": {},
   "outputs": [],
   "source": [
    "# Define the paths to the dataset\n",
    "train_dir = r'C:\\Users\\User\\tomato_Data_set\\train'  # Update this to your actual path\n",
    "val_dir = r'C:\\Users\\User\\tomato_Data_set\\val'      # Update this to your actual path"
   ]
  },
  {
   "cell_type": "code",
   "execution_count": 17,
   "id": "f1fc0118-84b4-4ea8-8a90-11febc875f98",
   "metadata": {},
   "outputs": [],
   "source": [
    "# Data augmentation for training\n",
    "train_datagen = ImageDataGenerator(\n",
    "    rescale=1./255,\n",
    "    rotation_range=20,\n",
    "    zoom_range=0.2,\n",
    "    width_shift_range=0.2,\n",
    "    height_shift_range=0.2,\n",
    "    shear_range=0.2,\n",
    "    horizontal_flip=True\n",
    ")"
   ]
  },
  {
   "cell_type": "code",
   "execution_count": 19,
   "id": "0e96c21c-2602-4882-ab6b-5032b0d7253a",
   "metadata": {},
   "outputs": [],
   "source": [
    "# For validation, just rescale\n",
    "val_datagen = ImageDataGenerator(rescale=1./255)"
   ]
  },
  {
   "cell_type": "code",
   "execution_count": 21,
   "id": "8a48f8c2-77e0-4d4d-aff9-e2e3adfe0772",
   "metadata": {},
   "outputs": [
    {
     "name": "stdout",
     "output_type": "stream",
     "text": [
      "Found 10000 images belonging to 10 classes.\n",
      "Found 1000 images belonging to 10 classes.\n"
     ]
    }
   ],
   "source": [
    "# Create generators for training and validation datasets\n",
    "train_generator = train_datagen.flow_from_directory(\n",
    "    train_dir,\n",
    "    target_size=(150, 150),\n",
    "    batch_size=32,\n",
    "    class_mode='categorical'\n",
    ")\n",
    "\n",
    "val_generator = val_datagen.flow_from_directory(\n",
    "    val_dir,\n",
    "    target_size=(150, 150),\n",
    "    batch_size=32,\n",
    "    class_mode='categorical'\n",
    ")"
   ]
  },
  {
   "cell_type": "code",
   "execution_count": 23,
   "id": "65b8af90-f92f-47ac-92ab-d2d206069665",
   "metadata": {},
   "outputs": [
    {
     "name": "stdout",
     "output_type": "stream",
     "text": [
      "Number of classes: 10\n"
     ]
    }
   ],
   "source": [
    "# Check the number of classes\n",
    "num_classes = len(train_generator.class_indices)\n",
    "print(\"Number of classes:\", num_classes)"
   ]
  },
  {
   "cell_type": "code",
   "execution_count": 25,
   "id": "66911e5e-bbc9-4a83-9057-600f3c3969c9",
   "metadata": {},
   "outputs": [],
   "source": [
    "# Define the model architecture\n",
    "model = models.Sequential([\n",
    "    layers.Conv2D(32, (3, 3), activation='relu', input_shape=(150, 150, 3)),\n",
    "    layers.MaxPooling2D(pool_size=(2, 2)),\n",
    "    layers.Conv2D(64, (3, 3), activation='relu'),\n",
    "    layers.MaxPooling2D(pool_size=(2, 2)),\n",
    "    layers.Conv2D(128, (3, 3), activation='relu'),\n",
    "    layers.MaxPooling2D(pool_size=(2, 2)),\n",
    "    layers.Flatten(),\n",
    "    layers.Dense(128, activation='relu'),\n",
    "    layers.Dense(num_classes, activation='softmax')  # Output layer matches number of classes\n",
    "])"
   ]
  },
  {
   "cell_type": "code",
   "execution_count": 27,
   "id": "cd420d70-a30d-4065-a041-5fb4cc8ac105",
   "metadata": {},
   "outputs": [],
   "source": [
    "# Compile the model\n",
    "model.compile(optimizer='adam', loss='categorical_crossentropy', metrics=['accuracy'])"
   ]
  },
  {
   "cell_type": "code",
   "execution_count": null,
   "id": "fdfabaf4-4293-4519-9bd5-25ef7eab00ff",
   "metadata": {},
   "outputs": [
    {
     "name": "stdout",
     "output_type": "stream",
     "text": [
      "Epoch 1/10\n",
      "\u001b[1m265/312\u001b[0m \u001b[32m━━━━━━━━━━━━━━━━\u001b[0m\u001b[37m━━━━\u001b[0m \u001b[1m59s\u001b[0m 1s/step - accuracy: 0.3001 - loss: 1.9126 "
     ]
    }
   ],
   "source": [
    "# Train the model\n",
    "history = model.fit(\n",
    "    train_generator,\n",
    "    validation_data=val_generator,\n",
    "    epochs=10,  # Adjust the number of epochs as needed\n",
    "    steps_per_epoch=train_generator.samples // 32,\n",
    "    validation_steps=val_generator.samples // 32\n",
    ")"
   ]
  },
  {
   "cell_type": "code",
   "execution_count": null,
   "id": "efd72380-de67-42fb-924b-9c77b1ec1c2c",
   "metadata": {},
   "outputs": [],
   "source": [
    "# Save the model (optional)\n",
    "model.save('tomato_disease_classifier.h5')"
   ]
  },
  {
   "cell_type": "code",
   "execution_count": null,
   "id": "dd0fcadf-dec8-4e5f-8b8b-3ea871ca6ec2",
   "metadata": {},
   "outputs": [],
   "source": [
    "# Updated dictionary for disease to pesticide recommendations\n",
    "pesticide_recommendations = {\n",
    "    'Tomato___Bacterial_spot': 'Use Copper-based fungicides',\n",
    "    'Tomato___Early_blight': 'Use Chlorothalonil or Azoxystrobin',\n",
    "    'Tomato___healthy': 'No pesticides needed',\n",
    "    'Tomato___Late_blight': 'Use Mancozeb or Ridomil',\n",
    "    'Tomato___Leaf_Mold': 'Use Potassium bicarbonate or Neem oil'\n",
    "}\n",
    "\n",
    "def recommend_pesticide(disease):\n",
    "    return pesticide_recommendations.get(disease, \"No recommendation available.\")"
   ]
  },
  {
   "cell_type": "code",
   "execution_count": null,
   "id": "85a343fc-eb00-487d-ad9a-74cc551b1559",
   "metadata": {},
   "outputs": [],
   "source": [
    "def predict_and_recommend(image_path):\n",
    "    # Load and preprocess the image\n",
    "    img = image.load_img(image_path, target_size=(150, 150))\n",
    "    img_array = image.img_to_array(img) / 255.0\n",
    "    img_array = np.expand_dims(img_array, axis=0)\n",
    "    \n",
    "    # Make predictions\n",
    "    prediction = model.predict(img_array)\n",
    "    predicted_class = np.argmax(prediction, axis=1)\n",
    "    \n",
    "    # Map predicted class to disease name\n",
    "    disease_name = list(train_generator.class_indices.keys())[predicted_class[0]]\n",
    "    \n",
    "    # Get pesticide recommendation\n",
    "    pesticide = recommend_pesticide(disease_name)\n",
    "    \n",
    "    return disease_name, pesticide\n",
    "\n",
    "# Example usage\n",
    "image_path = r'C:\\Users\\User\\.jupyter\\plant disease\\plant disease\\train\\Tomato___Bacterial_spot\\0e94696b-3e0d-4d4c-a712-01197e228cf1___UF.GRC_BS_Lab Leaf 8641.JPG'  # Update this to your actual test image path\n",
    "disease, pesticide = predict_and_recommend(image_path)\n",
    "print(f'Detected Disease: {disease}\\nRecommended Pesticide: {pesticide}')"
   ]
  },
  {
   "cell_type": "code",
   "execution_count": null,
   "id": "869278f9-9018-4af9-afe6-2cfbf863aa3f",
   "metadata": {},
   "outputs": [],
   "source": []
  },
  {
   "cell_type": "code",
   "execution_count": null,
   "id": "d43771c2-0847-4e03-969e-34ea9251930e",
   "metadata": {},
   "outputs": [],
   "source": []
  },
  {
   "cell_type": "code",
   "execution_count": null,
   "id": "2ff7204a-0295-493e-b83b-1cc951be8467",
   "metadata": {},
   "outputs": [],
   "source": []
  },
  {
   "cell_type": "code",
   "execution_count": null,
   "id": "9e11a8ba-9a80-42a4-bd06-6ace9d391662",
   "metadata": {},
   "outputs": [],
   "source": []
  },
  {
   "cell_type": "code",
   "execution_count": null,
   "id": "8d8af18a-652e-448d-8c8d-5499bbea2f3e",
   "metadata": {},
   "outputs": [],
   "source": []
  },
  {
   "cell_type": "code",
   "execution_count": null,
   "id": "8fec7951-ee98-48ed-b416-b490e391e186",
   "metadata": {},
   "outputs": [],
   "source": []
  },
  {
   "cell_type": "code",
   "execution_count": null,
   "id": "a8a5ca4a-845a-45f8-bd34-7dff2152ba60",
   "metadata": {},
   "outputs": [],
   "source": []
  },
  {
   "cell_type": "code",
   "execution_count": null,
   "id": "b308bc87-9a33-4817-ae39-83e832f547e4",
   "metadata": {},
   "outputs": [],
   "source": []
  },
  {
   "cell_type": "code",
   "execution_count": null,
   "id": "6c07152a-36f9-4703-8ae9-d90e5bd75f8b",
   "metadata": {},
   "outputs": [],
   "source": []
  },
  {
   "cell_type": "code",
   "execution_count": null,
   "id": "93a2b76f-71cc-41a2-a114-23d0a13f4b64",
   "metadata": {},
   "outputs": [],
   "source": []
  },
  {
   "cell_type": "code",
   "execution_count": null,
   "id": "8cb376e1-6d45-4c60-b0de-fb5d41b3f281",
   "metadata": {},
   "outputs": [],
   "source": []
  },
  {
   "cell_type": "code",
   "execution_count": null,
   "id": "e0291b99-75c4-4c79-8012-2043f5022e2c",
   "metadata": {},
   "outputs": [],
   "source": []
  },
  {
   "cell_type": "code",
   "execution_count": null,
   "id": "8c94c0f7-38f7-4cfe-ba89-1be7cb029365",
   "metadata": {},
   "outputs": [],
   "source": []
  },
  {
   "cell_type": "code",
   "execution_count": null,
   "id": "592458dd-f2cd-44fc-9e31-e249078670d1",
   "metadata": {},
   "outputs": [],
   "source": []
  }
 ],
 "metadata": {
  "kernelspec": {
   "display_name": "Python 3 (ipykernel)",
   "language": "python",
   "name": "python3"
  },
  "language_info": {
   "codemirror_mode": {
    "name": "ipython",
    "version": 3
   },
   "file_extension": ".py",
   "mimetype": "text/x-python",
   "name": "python",
   "nbconvert_exporter": "python",
   "pygments_lexer": "ipython3",
   "version": "3.12.7"
  }
 },
 "nbformat": 4,
 "nbformat_minor": 5
}
